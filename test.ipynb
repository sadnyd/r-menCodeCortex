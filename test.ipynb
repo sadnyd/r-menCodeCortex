{
 "cells": [
  {
   "cell_type": "code",
   "execution_count": 1,
   "metadata": {},
   "outputs": [],
   "source": [
    "import pandas as pd"
   ]
  },
  {
   "cell_type": "code",
   "execution_count": 2,
   "metadata": {},
   "outputs": [],
   "source": [
    "path = 'TEMPERATURE/data24_08.csv'"
   ]
  },
  {
   "cell_type": "code",
   "execution_count": 3,
   "metadata": {},
   "outputs": [],
   "source": [
    "# Step 1: Read the CSV file\n",
    "df = pd.read_csv(path)"
   ]
  },
  {
   "cell_type": "code",
   "execution_count": 4,
   "metadata": {},
   "outputs": [
    {
     "data": {
      "text/plain": [
       "Index(['DateTime', 'RH [%]', 'Temperature [°C]', 'WBT_C'], dtype='object')"
      ]
     },
     "execution_count": 4,
     "metadata": {},
     "output_type": "execute_result"
    }
   ],
   "source": [
    "df.columns"
   ]
  },
  {
   "cell_type": "code",
   "execution_count": 5,
   "metadata": {},
   "outputs": [],
   "source": [
    "# Step 2: Convert the time column to datetime if it's not already\n",
    "df['Time'] = pd.to_datetime(df['DateTime'])"
   ]
  },
  {
   "cell_type": "code",
   "execution_count": 6,
   "metadata": {},
   "outputs": [],
   "source": [
    "# Step 3: Extract year, month, day, hour, minute, second into separate columns\n",
    "df['year'] = df['Time'].dt.year\n",
    "df['month'] = df['Time'].dt.month\n",
    "df['day'] = df['Time'].dt.day\n",
    "df['hour'] = df['Time'].dt.hour\n",
    "df['minute'] = df['Time'].dt.minute\n",
    "df['second'] = df['Time'].dt.second"
   ]
  },
  {
   "cell_type": "code",
   "execution_count": 7,
   "metadata": {},
   "outputs": [
    {
     "name": "stdout",
     "output_type": "stream",
     "text": [
      "                  DateTime  RH [%]  Temperature [°C]  WBT_C  \\\n",
      "0  2024-08-01 00:01:26.000    80.2              30.1   27.3   \n",
      "1  2024-08-01 00:11:26.000    80.3              30.1   27.2   \n",
      "2  2024-08-01 00:21:26.000    80.4              30.0   27.2   \n",
      "3  2024-08-01 00:31:26.000    79.7              30.0   27.1   \n",
      "4  2024-08-01 00:41:27.000    78.5              29.9   26.8   \n",
      "\n",
      "                 Time  year  month  day  hour  minute  second  \n",
      "0 2024-08-01 00:01:26  2024      8    1     0       1      26  \n",
      "1 2024-08-01 00:11:26  2024      8    1     0      11      26  \n",
      "2 2024-08-01 00:21:26  2024      8    1     0      21      26  \n",
      "3 2024-08-01 00:31:26  2024      8    1     0      31      26  \n",
      "4 2024-08-01 00:41:27  2024      8    1     0      41      27  \n"
     ]
    }
   ],
   "source": [
    "# Step 4: View the updated DataFrame\n",
    "print(df.head())"
   ]
  },
  {
   "cell_type": "code",
   "execution_count": 8,
   "metadata": {},
   "outputs": [
    {
     "data": {
      "text/html": [
       "<div>\n",
       "<style scoped>\n",
       "    .dataframe tbody tr th:only-of-type {\n",
       "        vertical-align: middle;\n",
       "    }\n",
       "\n",
       "    .dataframe tbody tr th {\n",
       "        vertical-align: top;\n",
       "    }\n",
       "\n",
       "    .dataframe thead th {\n",
       "        text-align: right;\n",
       "    }\n",
       "</style>\n",
       "<table border=\"1\" class=\"dataframe\">\n",
       "  <thead>\n",
       "    <tr style=\"text-align: right;\">\n",
       "      <th></th>\n",
       "      <th>DateTime</th>\n",
       "      <th>RH [%]</th>\n",
       "      <th>Temperature [°C]</th>\n",
       "      <th>WBT_C</th>\n",
       "      <th>Time</th>\n",
       "      <th>year</th>\n",
       "      <th>month</th>\n",
       "      <th>day</th>\n",
       "      <th>hour</th>\n",
       "      <th>minute</th>\n",
       "      <th>second</th>\n",
       "    </tr>\n",
       "  </thead>\n",
       "  <tbody>\n",
       "    <tr>\n",
       "      <th>4484</th>\n",
       "      <td>2024-08-31 23:31:27.000</td>\n",
       "      <td>69.8</td>\n",
       "      <td>30.2</td>\n",
       "      <td>25.7</td>\n",
       "      <td>2024-08-31 23:31:27</td>\n",
       "      <td>2024</td>\n",
       "      <td>8</td>\n",
       "      <td>31</td>\n",
       "      <td>23</td>\n",
       "      <td>31</td>\n",
       "      <td>27</td>\n",
       "    </tr>\n",
       "    <tr>\n",
       "      <th>4485</th>\n",
       "      <td>2024-08-31 23:41:27.000</td>\n",
       "      <td>70.6</td>\n",
       "      <td>30.1</td>\n",
       "      <td>25.8</td>\n",
       "      <td>2024-08-31 23:41:27</td>\n",
       "      <td>2024</td>\n",
       "      <td>8</td>\n",
       "      <td>31</td>\n",
       "      <td>23</td>\n",
       "      <td>41</td>\n",
       "      <td>27</td>\n",
       "    </tr>\n",
       "    <tr>\n",
       "      <th>4486</th>\n",
       "      <td>2024-08-31 23:41:27.000</td>\n",
       "      <td>70.6</td>\n",
       "      <td>30.1</td>\n",
       "      <td>25.8</td>\n",
       "      <td>2024-08-31 23:41:27</td>\n",
       "      <td>2024</td>\n",
       "      <td>8</td>\n",
       "      <td>31</td>\n",
       "      <td>23</td>\n",
       "      <td>41</td>\n",
       "      <td>27</td>\n",
       "    </tr>\n",
       "    <tr>\n",
       "      <th>4487</th>\n",
       "      <td>2024-08-31 23:51:27.000</td>\n",
       "      <td>71.2</td>\n",
       "      <td>30.1</td>\n",
       "      <td>25.9</td>\n",
       "      <td>2024-08-31 23:51:27</td>\n",
       "      <td>2024</td>\n",
       "      <td>8</td>\n",
       "      <td>31</td>\n",
       "      <td>23</td>\n",
       "      <td>51</td>\n",
       "      <td>27</td>\n",
       "    </tr>\n",
       "    <tr>\n",
       "      <th>4488</th>\n",
       "      <td>2024-08-31 23:51:27.000</td>\n",
       "      <td>71.2</td>\n",
       "      <td>30.1</td>\n",
       "      <td>25.9</td>\n",
       "      <td>2024-08-31 23:51:27</td>\n",
       "      <td>2024</td>\n",
       "      <td>8</td>\n",
       "      <td>31</td>\n",
       "      <td>23</td>\n",
       "      <td>51</td>\n",
       "      <td>27</td>\n",
       "    </tr>\n",
       "  </tbody>\n",
       "</table>\n",
       "</div>"
      ],
      "text/plain": [
       "                     DateTime  RH [%]  Temperature [°C]  WBT_C  \\\n",
       "4484  2024-08-31 23:31:27.000    69.8              30.2   25.7   \n",
       "4485  2024-08-31 23:41:27.000    70.6              30.1   25.8   \n",
       "4486  2024-08-31 23:41:27.000    70.6              30.1   25.8   \n",
       "4487  2024-08-31 23:51:27.000    71.2              30.1   25.9   \n",
       "4488  2024-08-31 23:51:27.000    71.2              30.1   25.9   \n",
       "\n",
       "                    Time  year  month  day  hour  minute  second  \n",
       "4484 2024-08-31 23:31:27  2024      8   31    23      31      27  \n",
       "4485 2024-08-31 23:41:27  2024      8   31    23      41      27  \n",
       "4486 2024-08-31 23:41:27  2024      8   31    23      41      27  \n",
       "4487 2024-08-31 23:51:27  2024      8   31    23      51      27  \n",
       "4488 2024-08-31 23:51:27  2024      8   31    23      51      27  "
      ]
     },
     "execution_count": 8,
     "metadata": {},
     "output_type": "execute_result"
    }
   ],
   "source": [
    "df.tail()"
   ]
  },
  {
   "cell_type": "code",
   "execution_count": 9,
   "metadata": {},
   "outputs": [],
   "source": [
    "# Optionally, save the updated DataFrame back to CSV\n",
    "df.to_csv('TEMPERATURE/separated_24_08.csv', index=False)"
   ]
  },
  {
   "cell_type": "code",
   "execution_count": null,
   "metadata": {},
   "outputs": [],
   "source": []
  }
 ],
 "metadata": {
  "kernelspec": {
   "display_name": "venv",
   "language": "python",
   "name": "python3"
  },
  "language_info": {
   "codemirror_mode": {
    "name": "ipython",
    "version": 3
   },
   "file_extension": ".py",
   "mimetype": "text/x-python",
   "name": "python",
   "nbconvert_exporter": "python",
   "pygments_lexer": "ipython3",
   "version": "3.12.5"
  }
 },
 "nbformat": 4,
 "nbformat_minor": 2
}
