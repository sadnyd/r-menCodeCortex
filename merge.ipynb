{
 "cells": [
  {
   "cell_type": "code",
   "execution_count": 1,
   "metadata": {},
   "outputs": [],
   "source": [
    "import pandas as pd"
   ]
  },
  {
   "cell_type": "code",
   "execution_count": 2,
   "metadata": {},
   "outputs": [],
   "source": [
    "efficiency_df = pd.read_csv('PLANT TON_EFFICIENCY/separated_24_08.csv')\n",
    "temperature_df = pd.read_csv('TEMPERATURE/separated_24_08.csv')"
   ]
  },
  {
   "cell_type": "code",
   "execution_count": 3,
   "metadata": {},
   "outputs": [],
   "source": [
    "columns_to_drop = ['CH1', 'CH2', 'CH3', 'CH4']\n",
    "efficiency_df.drop(columns=columns_to_drop, inplace=True)"
   ]
  },
  {
   "cell_type": "code",
   "execution_count": 4,
   "metadata": {},
   "outputs": [
    {
     "data": {
      "text/plain": [
       "Index(['Time', 'RT', 'kW_Tot', 'kW_RT', 'CH Load', 'kW_CHH', 'kW_CHP',\n",
       "       'kW_CHS', 'kW_CDS', 'kW_CT', 'GPM', 'DeltaCHW', 'CHWS', 'CHWR',\n",
       "       'DeltaCDW', 'CDHI', 'CDLO', 'WBT', 'DeltaCT', 'Hz_ CHP', 'Hz_CHS',\n",
       "       'Hz_CDS', 'Hz_CT', 'Precent_CH', 'Precent_ CHP', 'Precent_CDS',\n",
       "       'Precent_CT', 'year', 'month', 'day', 'hour', 'minute', 'second'],\n",
       "      dtype='object')"
      ]
     },
     "execution_count": 4,
     "metadata": {},
     "output_type": "execute_result"
    }
   ],
   "source": [
    "efficiency_df.columns"
   ]
  },
  {
   "cell_type": "code",
   "execution_count": 5,
   "metadata": {},
   "outputs": [
    {
     "data": {
      "text/plain": [
       "Index(['DateTime', 'RH [%]', 'Temperature [°C]', 'WBT_C', 'Time', 'year',\n",
       "       'month', 'day', 'hour', 'minute', 'second'],\n",
       "      dtype='object')"
      ]
     },
     "execution_count": 5,
     "metadata": {},
     "output_type": "execute_result"
    }
   ],
   "source": [
    "temperature_df.columns"
   ]
  },
  {
   "cell_type": "code",
   "execution_count": 6,
   "metadata": {},
   "outputs": [
    {
     "data": {
      "text/html": [
       "<div>\n",
       "<style scoped>\n",
       "    .dataframe tbody tr th:only-of-type {\n",
       "        vertical-align: middle;\n",
       "    }\n",
       "\n",
       "    .dataframe tbody tr th {\n",
       "        vertical-align: top;\n",
       "    }\n",
       "\n",
       "    .dataframe thead th {\n",
       "        text-align: right;\n",
       "    }\n",
       "</style>\n",
       "<table border=\"1\" class=\"dataframe\">\n",
       "  <thead>\n",
       "    <tr style=\"text-align: right;\">\n",
       "      <th></th>\n",
       "      <th>Time</th>\n",
       "      <th>RT</th>\n",
       "      <th>kW_Tot</th>\n",
       "      <th>kW_RT</th>\n",
       "      <th>CH Load</th>\n",
       "      <th>kW_CHH</th>\n",
       "      <th>kW_CHP</th>\n",
       "      <th>kW_CHS</th>\n",
       "      <th>kW_CDS</th>\n",
       "      <th>kW_CT</th>\n",
       "      <th>...</th>\n",
       "      <th>Precent_CH</th>\n",
       "      <th>Precent_ CHP</th>\n",
       "      <th>Precent_CDS</th>\n",
       "      <th>Precent_CT</th>\n",
       "      <th>year</th>\n",
       "      <th>month</th>\n",
       "      <th>day</th>\n",
       "      <th>hour</th>\n",
       "      <th>minute</th>\n",
       "      <th>second</th>\n",
       "    </tr>\n",
       "  </thead>\n",
       "  <tbody>\n",
       "    <tr>\n",
       "      <th>0</th>\n",
       "      <td>2024-08-01 00:00:00</td>\n",
       "      <td>162.0</td>\n",
       "      <td>188.2</td>\n",
       "      <td>1.162</td>\n",
       "      <td>36.4</td>\n",
       "      <td>123.6</td>\n",
       "      <td>19.0</td>\n",
       "      <td>0</td>\n",
       "      <td>27.2</td>\n",
       "      <td>18.5</td>\n",
       "      <td>...</td>\n",
       "      <td>65.6</td>\n",
       "      <td>10.1</td>\n",
       "      <td>14.4</td>\n",
       "      <td>9.8</td>\n",
       "      <td>2024</td>\n",
       "      <td>8</td>\n",
       "      <td>1</td>\n",
       "      <td>0</td>\n",
       "      <td>0</td>\n",
       "      <td>0</td>\n",
       "    </tr>\n",
       "    <tr>\n",
       "      <th>1</th>\n",
       "      <td>2024-08-01 00:10:00</td>\n",
       "      <td>146.8</td>\n",
       "      <td>181.8</td>\n",
       "      <td>1.238</td>\n",
       "      <td>34.6</td>\n",
       "      <td>117.3</td>\n",
       "      <td>19.1</td>\n",
       "      <td>0</td>\n",
       "      <td>27.2</td>\n",
       "      <td>18.2</td>\n",
       "      <td>...</td>\n",
       "      <td>64.6</td>\n",
       "      <td>10.5</td>\n",
       "      <td>14.9</td>\n",
       "      <td>10.0</td>\n",
       "      <td>2024</td>\n",
       "      <td>8</td>\n",
       "      <td>1</td>\n",
       "      <td>0</td>\n",
       "      <td>10</td>\n",
       "      <td>0</td>\n",
       "    </tr>\n",
       "    <tr>\n",
       "      <th>2</th>\n",
       "      <td>2024-08-01 00:20:00</td>\n",
       "      <td>181.1</td>\n",
       "      <td>174.8</td>\n",
       "      <td>0.965</td>\n",
       "      <td>32.4</td>\n",
       "      <td>110.2</td>\n",
       "      <td>19.0</td>\n",
       "      <td>0</td>\n",
       "      <td>27.1</td>\n",
       "      <td>18.4</td>\n",
       "      <td>...</td>\n",
       "      <td>63.0</td>\n",
       "      <td>10.9</td>\n",
       "      <td>15.5</td>\n",
       "      <td>10.5</td>\n",
       "      <td>2024</td>\n",
       "      <td>8</td>\n",
       "      <td>1</td>\n",
       "      <td>0</td>\n",
       "      <td>20</td>\n",
       "      <td>0</td>\n",
       "    </tr>\n",
       "    <tr>\n",
       "      <th>3</th>\n",
       "      <td>2024-08-01 00:30:00</td>\n",
       "      <td>156.3</td>\n",
       "      <td>173.9</td>\n",
       "      <td>1.113</td>\n",
       "      <td>32.2</td>\n",
       "      <td>109.3</td>\n",
       "      <td>19.0</td>\n",
       "      <td>0</td>\n",
       "      <td>27.1</td>\n",
       "      <td>18.4</td>\n",
       "      <td>...</td>\n",
       "      <td>62.9</td>\n",
       "      <td>10.9</td>\n",
       "      <td>15.6</td>\n",
       "      <td>10.6</td>\n",
       "      <td>2024</td>\n",
       "      <td>8</td>\n",
       "      <td>1</td>\n",
       "      <td>0</td>\n",
       "      <td>30</td>\n",
       "      <td>0</td>\n",
       "    </tr>\n",
       "    <tr>\n",
       "      <th>4</th>\n",
       "      <td>2024-08-01 00:40:00</td>\n",
       "      <td>165.3</td>\n",
       "      <td>185.1</td>\n",
       "      <td>1.120</td>\n",
       "      <td>35.5</td>\n",
       "      <td>120.6</td>\n",
       "      <td>19.0</td>\n",
       "      <td>0</td>\n",
       "      <td>27.0</td>\n",
       "      <td>18.5</td>\n",
       "      <td>...</td>\n",
       "      <td>65.2</td>\n",
       "      <td>10.2</td>\n",
       "      <td>14.6</td>\n",
       "      <td>10.0</td>\n",
       "      <td>2024</td>\n",
       "      <td>8</td>\n",
       "      <td>1</td>\n",
       "      <td>0</td>\n",
       "      <td>40</td>\n",
       "      <td>0</td>\n",
       "    </tr>\n",
       "  </tbody>\n",
       "</table>\n",
       "<p>5 rows × 33 columns</p>\n",
       "</div>"
      ],
      "text/plain": [
       "                  Time     RT  kW_Tot  kW_RT  CH Load  kW_CHH  kW_CHP  kW_CHS  \\\n",
       "0  2024-08-01 00:00:00  162.0   188.2  1.162     36.4   123.6    19.0       0   \n",
       "1  2024-08-01 00:10:00  146.8   181.8  1.238     34.6   117.3    19.1       0   \n",
       "2  2024-08-01 00:20:00  181.1   174.8  0.965     32.4   110.2    19.0       0   \n",
       "3  2024-08-01 00:30:00  156.3   173.9  1.113     32.2   109.3    19.0       0   \n",
       "4  2024-08-01 00:40:00  165.3   185.1  1.120     35.5   120.6    19.0       0   \n",
       "\n",
       "   kW_CDS  kW_CT  ...  Precent_CH  Precent_ CHP  Precent_CDS  Precent_CT  \\\n",
       "0    27.2   18.5  ...        65.6          10.1         14.4         9.8   \n",
       "1    27.2   18.2  ...        64.6          10.5         14.9        10.0   \n",
       "2    27.1   18.4  ...        63.0          10.9         15.5        10.5   \n",
       "3    27.1   18.4  ...        62.9          10.9         15.6        10.6   \n",
       "4    27.0   18.5  ...        65.2          10.2         14.6        10.0   \n",
       "\n",
       "   year  month  day  hour  minute  second  \n",
       "0  2024      8    1     0       0       0  \n",
       "1  2024      8    1     0      10       0  \n",
       "2  2024      8    1     0      20       0  \n",
       "3  2024      8    1     0      30       0  \n",
       "4  2024      8    1     0      40       0  \n",
       "\n",
       "[5 rows x 33 columns]"
      ]
     },
     "execution_count": 6,
     "metadata": {},
     "output_type": "execute_result"
    }
   ],
   "source": [
    "efficiency_df.head()"
   ]
  },
  {
   "cell_type": "code",
   "execution_count": 7,
   "metadata": {},
   "outputs": [
    {
     "data": {
      "text/html": [
       "<div>\n",
       "<style scoped>\n",
       "    .dataframe tbody tr th:only-of-type {\n",
       "        vertical-align: middle;\n",
       "    }\n",
       "\n",
       "    .dataframe tbody tr th {\n",
       "        vertical-align: top;\n",
       "    }\n",
       "\n",
       "    .dataframe thead th {\n",
       "        text-align: right;\n",
       "    }\n",
       "</style>\n",
       "<table border=\"1\" class=\"dataframe\">\n",
       "  <thead>\n",
       "    <tr style=\"text-align: right;\">\n",
       "      <th></th>\n",
       "      <th>DateTime</th>\n",
       "      <th>RH [%]</th>\n",
       "      <th>Temperature [°C]</th>\n",
       "      <th>WBT_C</th>\n",
       "      <th>Time</th>\n",
       "      <th>year</th>\n",
       "      <th>month</th>\n",
       "      <th>day</th>\n",
       "      <th>hour</th>\n",
       "      <th>minute</th>\n",
       "      <th>second</th>\n",
       "    </tr>\n",
       "  </thead>\n",
       "  <tbody>\n",
       "    <tr>\n",
       "      <th>0</th>\n",
       "      <td>2024-08-01 00:01:26.000</td>\n",
       "      <td>80.2</td>\n",
       "      <td>30.1</td>\n",
       "      <td>27.3</td>\n",
       "      <td>2024-08-01 00:01:26</td>\n",
       "      <td>2024</td>\n",
       "      <td>8</td>\n",
       "      <td>1</td>\n",
       "      <td>0</td>\n",
       "      <td>1</td>\n",
       "      <td>26</td>\n",
       "    </tr>\n",
       "    <tr>\n",
       "      <th>1</th>\n",
       "      <td>2024-08-01 00:11:26.000</td>\n",
       "      <td>80.3</td>\n",
       "      <td>30.1</td>\n",
       "      <td>27.2</td>\n",
       "      <td>2024-08-01 00:11:26</td>\n",
       "      <td>2024</td>\n",
       "      <td>8</td>\n",
       "      <td>1</td>\n",
       "      <td>0</td>\n",
       "      <td>11</td>\n",
       "      <td>26</td>\n",
       "    </tr>\n",
       "    <tr>\n",
       "      <th>2</th>\n",
       "      <td>2024-08-01 00:21:26.000</td>\n",
       "      <td>80.4</td>\n",
       "      <td>30.0</td>\n",
       "      <td>27.2</td>\n",
       "      <td>2024-08-01 00:21:26</td>\n",
       "      <td>2024</td>\n",
       "      <td>8</td>\n",
       "      <td>1</td>\n",
       "      <td>0</td>\n",
       "      <td>21</td>\n",
       "      <td>26</td>\n",
       "    </tr>\n",
       "    <tr>\n",
       "      <th>3</th>\n",
       "      <td>2024-08-01 00:31:26.000</td>\n",
       "      <td>79.7</td>\n",
       "      <td>30.0</td>\n",
       "      <td>27.1</td>\n",
       "      <td>2024-08-01 00:31:26</td>\n",
       "      <td>2024</td>\n",
       "      <td>8</td>\n",
       "      <td>1</td>\n",
       "      <td>0</td>\n",
       "      <td>31</td>\n",
       "      <td>26</td>\n",
       "    </tr>\n",
       "    <tr>\n",
       "      <th>4</th>\n",
       "      <td>2024-08-01 00:41:27.000</td>\n",
       "      <td>78.5</td>\n",
       "      <td>29.9</td>\n",
       "      <td>26.8</td>\n",
       "      <td>2024-08-01 00:41:27</td>\n",
       "      <td>2024</td>\n",
       "      <td>8</td>\n",
       "      <td>1</td>\n",
       "      <td>0</td>\n",
       "      <td>41</td>\n",
       "      <td>27</td>\n",
       "    </tr>\n",
       "  </tbody>\n",
       "</table>\n",
       "</div>"
      ],
      "text/plain": [
       "                  DateTime  RH [%]  Temperature [°C]  WBT_C  \\\n",
       "0  2024-08-01 00:01:26.000    80.2              30.1   27.3   \n",
       "1  2024-08-01 00:11:26.000    80.3              30.1   27.2   \n",
       "2  2024-08-01 00:21:26.000    80.4              30.0   27.2   \n",
       "3  2024-08-01 00:31:26.000    79.7              30.0   27.1   \n",
       "4  2024-08-01 00:41:27.000    78.5              29.9   26.8   \n",
       "\n",
       "                  Time  year  month  day  hour  minute  second  \n",
       "0  2024-08-01 00:01:26  2024      8    1     0       1      26  \n",
       "1  2024-08-01 00:11:26  2024      8    1     0      11      26  \n",
       "2  2024-08-01 00:21:26  2024      8    1     0      21      26  \n",
       "3  2024-08-01 00:31:26  2024      8    1     0      31      26  \n",
       "4  2024-08-01 00:41:27  2024      8    1     0      41      27  "
      ]
     },
     "execution_count": 7,
     "metadata": {},
     "output_type": "execute_result"
    }
   ],
   "source": [
    "temperature_df.head()"
   ]
  },
  {
   "cell_type": "code",
   "execution_count": 8,
   "metadata": {},
   "outputs": [
    {
     "data": {
      "text/plain": [
       "(4455, 33)"
      ]
     },
     "execution_count": 8,
     "metadata": {},
     "output_type": "execute_result"
    }
   ],
   "source": [
    "efficiency_df.shape"
   ]
  },
  {
   "cell_type": "code",
   "execution_count": 9,
   "metadata": {},
   "outputs": [
    {
     "data": {
      "text/plain": [
       "(4489, 11)"
      ]
     },
     "execution_count": 9,
     "metadata": {},
     "output_type": "execute_result"
    }
   ],
   "source": [
    "temperature_df.shape"
   ]
  },
  {
   "cell_type": "code",
   "execution_count": 10,
   "metadata": {},
   "outputs": [],
   "source": [
    "# Efficiency Data\n",
    "efficiency_df['Time'] = pd.to_datetime(efficiency_df['Time'])\n",
    "\n",
    "# Temperature Data\n",
    "temperature_df['DateTime'] = pd.to_datetime(temperature_df['DateTime'])"
   ]
  },
  {
   "cell_type": "code",
   "execution_count": 11,
   "metadata": {},
   "outputs": [],
   "source": [
    "efficiency_df.sort_values('Time', inplace=True)\n",
    "temperature_df.sort_values('DateTime', inplace=True)"
   ]
  },
  {
   "cell_type": "code",
   "execution_count": 12,
   "metadata": {},
   "outputs": [],
   "source": [
    "merged_df = pd.merge_asof(\n",
    "    efficiency_df,\n",
    "    temperature_df,\n",
    "    left_on='Time',\n",
    "    right_on='DateTime',\n",
    "    direction='nearest',\n",
    "    tolerance=pd.Timedelta('6 minutes')  # Adjust as needed\n",
    ")"
   ]
  },
  {
   "cell_type": "code",
   "execution_count": 13,
   "metadata": {},
   "outputs": [
    {
     "data": {
      "text/plain": [
       "(4455, 44)"
      ]
     },
     "execution_count": 13,
     "metadata": {},
     "output_type": "execute_result"
    }
   ],
   "source": [
    "merged_df.shape"
   ]
  },
  {
   "cell_type": "code",
   "execution_count": 14,
   "metadata": {},
   "outputs": [
    {
     "name": "stdout",
     "output_type": "stream",
     "text": [
      "Number of unmatched rows: 10\n"
     ]
    }
   ],
   "source": [
    "# Assuming your merged dataframe is called 'merged_df'\n",
    "\n",
    "# List of temperature columns from df_temperature\n",
    "temperature_columns = ['Temperature [°C]', 'RH [%]', 'WBT_C']\n",
    "\n",
    "# Identify rows where any of the temperature columns are NaN\n",
    "unmatched_rows = merged_df[merged_df[temperature_columns].isna().any(axis=1)]\n",
    "\n",
    "print(f\"Number of unmatched rows: {len(unmatched_rows)}\")"
   ]
  },
  {
   "cell_type": "code",
   "execution_count": 15,
   "metadata": {},
   "outputs": [
    {
     "name": "stdout",
     "output_type": "stream",
     "text": [
      "Rows before cleaning: 4455\n",
      "Rows after cleaning: 4445\n"
     ]
    }
   ],
   "source": [
    "# Remove rows with NaN in any of the temperature columns\n",
    "merged_df_clean = merged_df.dropna(subset=temperature_columns)\n",
    "\n",
    "print(f\"Rows before cleaning: {len(merged_df)}\")\n",
    "print(f\"Rows after cleaning: {len(merged_df_clean)}\")"
   ]
  },
  {
   "cell_type": "code",
   "execution_count": 16,
   "metadata": {},
   "outputs": [
    {
     "name": "stdout",
     "output_type": "stream",
     "text": [
      "Temperature [°C]    0\n",
      "RH [%]              0\n",
      "WBT_C               0\n",
      "dtype: int64\n"
     ]
    }
   ],
   "source": [
    "# Verify that there are no NaNs in the temperature columns\n",
    "print(merged_df_clean[temperature_columns].isna().sum())"
   ]
  },
  {
   "cell_type": "code",
   "execution_count": 17,
   "metadata": {},
   "outputs": [
    {
     "data": {
      "text/plain": [
       "Index(['Time_x', 'RT', 'kW_Tot', 'kW_RT', 'CH Load', 'kW_CHH', 'kW_CHP',\n",
       "       'kW_CHS', 'kW_CDS', 'kW_CT', 'GPM', 'DeltaCHW', 'CHWS', 'CHWR',\n",
       "       'DeltaCDW', 'CDHI', 'CDLO', 'WBT', 'DeltaCT', 'Hz_ CHP', 'Hz_CHS',\n",
       "       'Hz_CDS', 'Hz_CT', 'Precent_CH', 'Precent_ CHP', 'Precent_CDS',\n",
       "       'Precent_CT', 'year_x', 'month_x', 'day_x', 'hour_x', 'minute_x',\n",
       "       'second_x', 'DateTime', 'RH [%]', 'Temperature [°C]', 'WBT_C', 'Time_y',\n",
       "       'year_y', 'month_y', 'day_y', 'hour_y', 'minute_y', 'second_y'],\n",
       "      dtype='object')"
      ]
     },
     "execution_count": 17,
     "metadata": {},
     "output_type": "execute_result"
    }
   ],
   "source": [
    "merged_df_clean.columns"
   ]
  },
  {
   "cell_type": "code",
   "execution_count": 18,
   "metadata": {},
   "outputs": [],
   "source": [
    "# List of columns to drop\n",
    "columns_to_drop = [\n",
    "    'Time_y',           # Duplicate time column from temperature data\n",
    "    'year_x', 'month_x', 'day_x', 'hour_x', 'minute_x', 'second_x',  # Date components from efficiency data\n",
    "    'year_y', 'month_y', 'day_y', 'hour_y', 'minute_y', 'second_y'   # Date components from temperature data\n",
    "]\n",
    "\n",
    "# Drop the columns\n",
    "merged_df_clean = merged_df_clean.drop(columns=columns_to_drop)"
   ]
  },
  {
   "cell_type": "code",
   "execution_count": 19,
   "metadata": {},
   "outputs": [],
   "source": [
    "# Rename 'Time_x' to 'Time'\n",
    "merged_df_clean.rename(columns={'Time_x': 'Time'}, inplace=True)"
   ]
  },
  {
   "cell_type": "code",
   "execution_count": 20,
   "metadata": {},
   "outputs": [
    {
     "data": {
      "text/plain": [
       "Index(['Time', 'RT', 'kW_Tot', 'kW_RT', 'CH Load', 'kW_CHH', 'kW_CHP',\n",
       "       'kW_CHS', 'kW_CDS', 'kW_CT', 'GPM', 'DeltaCHW', 'CHWS', 'CHWR',\n",
       "       'DeltaCDW', 'CDHI', 'CDLO', 'WBT', 'DeltaCT', 'Hz_ CHP', 'Hz_CHS',\n",
       "       'Hz_CDS', 'Hz_CT', 'Precent_CH', 'Precent_ CHP', 'Precent_CDS',\n",
       "       'Precent_CT', 'DateTime', 'RH [%]', 'Temperature [°C]', 'WBT_C'],\n",
       "      dtype='object')"
      ]
     },
     "execution_count": 20,
     "metadata": {},
     "output_type": "execute_result"
    }
   ],
   "source": [
    "merged_df_clean.columns"
   ]
  },
  {
   "cell_type": "code",
   "execution_count": 21,
   "metadata": {},
   "outputs": [],
   "source": [
    "# Calculate the absolute time difference in seconds\n",
    "merged_df_clean['Time_Difference'] = (merged_df_clean['Time'] - merged_df_clean['DateTime']).dt.total_seconds().abs()"
   ]
  },
  {
   "cell_type": "code",
   "execution_count": 22,
   "metadata": {},
   "outputs": [
    {
     "name": "stdout",
     "output_type": "stream",
     "text": [
      "Maximum Time Difference: 280.0 seconds\n"
     ]
    }
   ],
   "source": [
    "max_time_diff = merged_df_clean['Time_Difference'].max()\n",
    "print(f\"Maximum Time Difference: {max_time_diff} seconds\")"
   ]
  },
  {
   "cell_type": "code",
   "execution_count": 23,
   "metadata": {},
   "outputs": [],
   "source": [
    "merged_df_clean.to_csv('cleaned2.csv')"
   ]
  },
  {
   "cell_type": "code",
   "execution_count": null,
   "metadata": {},
   "outputs": [],
   "source": []
  }
 ],
 "metadata": {
  "kernelspec": {
   "display_name": "venv",
   "language": "python",
   "name": "python3"
  },
  "language_info": {
   "codemirror_mode": {
    "name": "ipython",
    "version": 3
   },
   "file_extension": ".py",
   "mimetype": "text/x-python",
   "name": "python",
   "nbconvert_exporter": "python",
   "pygments_lexer": "ipython3",
   "version": "3.12.5"
  }
 },
 "nbformat": 4,
 "nbformat_minor": 2
}
