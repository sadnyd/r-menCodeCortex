{
 "cells": [
  {
   "cell_type": "code",
   "execution_count": 1,
   "metadata": {},
   "outputs": [],
   "source": [
    "import pandas as pd"
   ]
  },
  {
   "cell_type": "code",
   "execution_count": 2,
   "metadata": {},
   "outputs": [],
   "source": [
    "efficiency_df = pd.read_csv('PLANT TON_EFFICIENCY/separated_23_12.csv')\n",
    "temperature_df = pd.read_csv('TEMPERATURE/separated_23_12.csv')"
   ]
  },
  {
   "cell_type": "code",
   "execution_count": 3,
   "metadata": {},
   "outputs": [],
   "source": [
    "columns_to_drop = ['CH1', 'CH2', 'CH3', 'CH4']\n",
    "efficiency_df.drop(columns=columns_to_drop, inplace=True)"
   ]
  },
  {
   "cell_type": "code",
   "execution_count": 4,
   "metadata": {},
   "outputs": [
    {
     "data": {
      "text/plain": [
       "Index(['Time', 'RT', 'kW_Tot', 'kW_RT', 'CH Load', 'kW_CHH', 'kW_CHP',\n",
       "       'kW_CHS', 'kW_CDS', 'kW_CT', 'GPM', 'DeltaCHW', 'CHWS', 'CHWR',\n",
       "       'DeltaCDW', 'CDHI', 'CDLO', 'WBT', 'DeltaCT', 'Hz_ CHP', 'Hz_CHS',\n",
       "       'Hz_CDS', 'Hz_CT', 'Precent_CH', 'Precent_ CHP', 'Precent_CDS',\n",
       "       'Precent_CT', 'year', 'month', 'day', 'hour', 'minute', 'second'],\n",
       "      dtype='object')"
      ]
     },
     "execution_count": 4,
     "metadata": {},
     "output_type": "execute_result"
    }
   ],
   "source": [
    "efficiency_df.columns"
   ]
  },
  {
   "cell_type": "code",
   "execution_count": 5,
   "metadata": {},
   "outputs": [
    {
     "data": {
      "text/plain": [
       "Index(['DateTime', 'RH [%]', 'Temperature [°C]', 'WBT_C', 'Time', 'year',\n",
       "       'month', 'day', 'hour', 'minute', 'second'],\n",
       "      dtype='object')"
      ]
     },
     "execution_count": 5,
     "metadata": {},
     "output_type": "execute_result"
    }
   ],
   "source": [
    "temperature_df.columns"
   ]
  },
  {
   "cell_type": "code",
   "execution_count": 6,
   "metadata": {},
   "outputs": [
    {
     "data": {
      "text/html": [
       "<div>\n",
       "<style scoped>\n",
       "    .dataframe tbody tr th:only-of-type {\n",
       "        vertical-align: middle;\n",
       "    }\n",
       "\n",
       "    .dataframe tbody tr th {\n",
       "        vertical-align: top;\n",
       "    }\n",
       "\n",
       "    .dataframe thead th {\n",
       "        text-align: right;\n",
       "    }\n",
       "</style>\n",
       "<table border=\"1\" class=\"dataframe\">\n",
       "  <thead>\n",
       "    <tr style=\"text-align: right;\">\n",
       "      <th></th>\n",
       "      <th>Time</th>\n",
       "      <th>RT</th>\n",
       "      <th>kW_Tot</th>\n",
       "      <th>kW_RT</th>\n",
       "      <th>CH Load</th>\n",
       "      <th>kW_CHH</th>\n",
       "      <th>kW_CHP</th>\n",
       "      <th>kW_CHS</th>\n",
       "      <th>kW_CDS</th>\n",
       "      <th>kW_CT</th>\n",
       "      <th>...</th>\n",
       "      <th>Precent_CH</th>\n",
       "      <th>Precent_ CHP</th>\n",
       "      <th>Precent_CDS</th>\n",
       "      <th>Precent_CT</th>\n",
       "      <th>year</th>\n",
       "      <th>month</th>\n",
       "      <th>day</th>\n",
       "      <th>hour</th>\n",
       "      <th>minute</th>\n",
       "      <th>second</th>\n",
       "    </tr>\n",
       "  </thead>\n",
       "  <tbody>\n",
       "    <tr>\n",
       "      <th>0</th>\n",
       "      <td>2023-12-01 00:00:00</td>\n",
       "      <td>201.2</td>\n",
       "      <td>208.7</td>\n",
       "      <td>1.037</td>\n",
       "      <td>39.6</td>\n",
       "      <td>135.6</td>\n",
       "      <td>23.3</td>\n",
       "      <td>0</td>\n",
       "      <td>30.9</td>\n",
       "      <td>18.9</td>\n",
       "      <td>...</td>\n",
       "      <td>65.0</td>\n",
       "      <td>11.2</td>\n",
       "      <td>14.8</td>\n",
       "      <td>9.1</td>\n",
       "      <td>2023</td>\n",
       "      <td>12</td>\n",
       "      <td>1</td>\n",
       "      <td>0</td>\n",
       "      <td>0</td>\n",
       "      <td>0</td>\n",
       "    </tr>\n",
       "    <tr>\n",
       "      <th>1</th>\n",
       "      <td>2023-12-01 00:10:00</td>\n",
       "      <td>180.5</td>\n",
       "      <td>203.5</td>\n",
       "      <td>1.127</td>\n",
       "      <td>38.4</td>\n",
       "      <td>130.4</td>\n",
       "      <td>23.3</td>\n",
       "      <td>0</td>\n",
       "      <td>30.9</td>\n",
       "      <td>18.9</td>\n",
       "      <td>...</td>\n",
       "      <td>64.1</td>\n",
       "      <td>11.5</td>\n",
       "      <td>15.2</td>\n",
       "      <td>9.3</td>\n",
       "      <td>2023</td>\n",
       "      <td>12</td>\n",
       "      <td>1</td>\n",
       "      <td>0</td>\n",
       "      <td>10</td>\n",
       "      <td>0</td>\n",
       "    </tr>\n",
       "    <tr>\n",
       "      <th>2</th>\n",
       "      <td>2023-12-01 00:20:00</td>\n",
       "      <td>170.2</td>\n",
       "      <td>200.8</td>\n",
       "      <td>1.179</td>\n",
       "      <td>37.6</td>\n",
       "      <td>127.8</td>\n",
       "      <td>23.3</td>\n",
       "      <td>0</td>\n",
       "      <td>30.9</td>\n",
       "      <td>18.9</td>\n",
       "      <td>...</td>\n",
       "      <td>63.6</td>\n",
       "      <td>11.6</td>\n",
       "      <td>15.4</td>\n",
       "      <td>9.4</td>\n",
       "      <td>2023</td>\n",
       "      <td>12</td>\n",
       "      <td>1</td>\n",
       "      <td>0</td>\n",
       "      <td>20</td>\n",
       "      <td>0</td>\n",
       "    </tr>\n",
       "    <tr>\n",
       "      <th>3</th>\n",
       "      <td>2023-12-01 00:30:00</td>\n",
       "      <td>184.9</td>\n",
       "      <td>201.2</td>\n",
       "      <td>1.088</td>\n",
       "      <td>37.8</td>\n",
       "      <td>128.3</td>\n",
       "      <td>23.3</td>\n",
       "      <td>0</td>\n",
       "      <td>30.6</td>\n",
       "      <td>18.9</td>\n",
       "      <td>...</td>\n",
       "      <td>63.8</td>\n",
       "      <td>11.6</td>\n",
       "      <td>15.2</td>\n",
       "      <td>9.4</td>\n",
       "      <td>2023</td>\n",
       "      <td>12</td>\n",
       "      <td>1</td>\n",
       "      <td>0</td>\n",
       "      <td>30</td>\n",
       "      <td>0</td>\n",
       "    </tr>\n",
       "    <tr>\n",
       "      <th>4</th>\n",
       "      <td>2023-12-01 00:40:00</td>\n",
       "      <td>176.4</td>\n",
       "      <td>181.4</td>\n",
       "      <td>1.028</td>\n",
       "      <td>34.6</td>\n",
       "      <td>117.6</td>\n",
       "      <td>24.1</td>\n",
       "      <td>0</td>\n",
       "      <td>30.8</td>\n",
       "      <td>8.9</td>\n",
       "      <td>...</td>\n",
       "      <td>64.8</td>\n",
       "      <td>13.3</td>\n",
       "      <td>17.0</td>\n",
       "      <td>4.9</td>\n",
       "      <td>2023</td>\n",
       "      <td>12</td>\n",
       "      <td>1</td>\n",
       "      <td>0</td>\n",
       "      <td>40</td>\n",
       "      <td>0</td>\n",
       "    </tr>\n",
       "  </tbody>\n",
       "</table>\n",
       "<p>5 rows × 33 columns</p>\n",
       "</div>"
      ],
      "text/plain": [
       "                  Time     RT  kW_Tot  kW_RT  CH Load  kW_CHH  kW_CHP  kW_CHS  \\\n",
       "0  2023-12-01 00:00:00  201.2   208.7  1.037     39.6   135.6    23.3       0   \n",
       "1  2023-12-01 00:10:00  180.5   203.5  1.127     38.4   130.4    23.3       0   \n",
       "2  2023-12-01 00:20:00  170.2   200.8  1.179     37.6   127.8    23.3       0   \n",
       "3  2023-12-01 00:30:00  184.9   201.2  1.088     37.8   128.3    23.3       0   \n",
       "4  2023-12-01 00:40:00  176.4   181.4  1.028     34.6   117.6    24.1       0   \n",
       "\n",
       "   kW_CDS  kW_CT  ...  Precent_CH  Precent_ CHP  Precent_CDS  Precent_CT  \\\n",
       "0    30.9   18.9  ...        65.0          11.2         14.8         9.1   \n",
       "1    30.9   18.9  ...        64.1          11.5         15.2         9.3   \n",
       "2    30.9   18.9  ...        63.6          11.6         15.4         9.4   \n",
       "3    30.6   18.9  ...        63.8          11.6         15.2         9.4   \n",
       "4    30.8    8.9  ...        64.8          13.3         17.0         4.9   \n",
       "\n",
       "   year  month  day  hour  minute  second  \n",
       "0  2023     12    1     0       0       0  \n",
       "1  2023     12    1     0      10       0  \n",
       "2  2023     12    1     0      20       0  \n",
       "3  2023     12    1     0      30       0  \n",
       "4  2023     12    1     0      40       0  \n",
       "\n",
       "[5 rows x 33 columns]"
      ]
     },
     "execution_count": 6,
     "metadata": {},
     "output_type": "execute_result"
    }
   ],
   "source": [
    "efficiency_df.head()"
   ]
  },
  {
   "cell_type": "code",
   "execution_count": 7,
   "metadata": {},
   "outputs": [
    {
     "data": {
      "text/html": [
       "<div>\n",
       "<style scoped>\n",
       "    .dataframe tbody tr th:only-of-type {\n",
       "        vertical-align: middle;\n",
       "    }\n",
       "\n",
       "    .dataframe tbody tr th {\n",
       "        vertical-align: top;\n",
       "    }\n",
       "\n",
       "    .dataframe thead th {\n",
       "        text-align: right;\n",
       "    }\n",
       "</style>\n",
       "<table border=\"1\" class=\"dataframe\">\n",
       "  <thead>\n",
       "    <tr style=\"text-align: right;\">\n",
       "      <th></th>\n",
       "      <th>DateTime</th>\n",
       "      <th>RH [%]</th>\n",
       "      <th>Temperature [°C]</th>\n",
       "      <th>WBT_C</th>\n",
       "      <th>Time</th>\n",
       "      <th>year</th>\n",
       "      <th>month</th>\n",
       "      <th>day</th>\n",
       "      <th>hour</th>\n",
       "      <th>minute</th>\n",
       "      <th>second</th>\n",
       "    </tr>\n",
       "  </thead>\n",
       "  <tbody>\n",
       "    <tr>\n",
       "      <th>0</th>\n",
       "      <td>2023-12-01 00:05:34.000</td>\n",
       "      <td>64.1</td>\n",
       "      <td>30.5</td>\n",
       "      <td>25.1</td>\n",
       "      <td>2023-12-01 00:05:34</td>\n",
       "      <td>2023</td>\n",
       "      <td>12</td>\n",
       "      <td>1</td>\n",
       "      <td>0</td>\n",
       "      <td>5</td>\n",
       "      <td>34</td>\n",
       "    </tr>\n",
       "    <tr>\n",
       "      <th>1</th>\n",
       "      <td>2023-12-01 00:15:34.000</td>\n",
       "      <td>64.1</td>\n",
       "      <td>30.4</td>\n",
       "      <td>25.0</td>\n",
       "      <td>2023-12-01 00:15:34</td>\n",
       "      <td>2023</td>\n",
       "      <td>12</td>\n",
       "      <td>1</td>\n",
       "      <td>0</td>\n",
       "      <td>15</td>\n",
       "      <td>34</td>\n",
       "    </tr>\n",
       "    <tr>\n",
       "      <th>2</th>\n",
       "      <td>2023-12-01 00:25:34.000</td>\n",
       "      <td>65.1</td>\n",
       "      <td>30.3</td>\n",
       "      <td>25.1</td>\n",
       "      <td>2023-12-01 00:25:34</td>\n",
       "      <td>2023</td>\n",
       "      <td>12</td>\n",
       "      <td>1</td>\n",
       "      <td>0</td>\n",
       "      <td>25</td>\n",
       "      <td>34</td>\n",
       "    </tr>\n",
       "    <tr>\n",
       "      <th>3</th>\n",
       "      <td>2023-12-01 00:35:34.000</td>\n",
       "      <td>65.0</td>\n",
       "      <td>30.3</td>\n",
       "      <td>25.1</td>\n",
       "      <td>2023-12-01 00:35:34</td>\n",
       "      <td>2023</td>\n",
       "      <td>12</td>\n",
       "      <td>1</td>\n",
       "      <td>0</td>\n",
       "      <td>35</td>\n",
       "      <td>34</td>\n",
       "    </tr>\n",
       "    <tr>\n",
       "      <th>4</th>\n",
       "      <td>2023-12-01 00:45:34.000</td>\n",
       "      <td>64.8</td>\n",
       "      <td>30.3</td>\n",
       "      <td>25.1</td>\n",
       "      <td>2023-12-01 00:45:34</td>\n",
       "      <td>2023</td>\n",
       "      <td>12</td>\n",
       "      <td>1</td>\n",
       "      <td>0</td>\n",
       "      <td>45</td>\n",
       "      <td>34</td>\n",
       "    </tr>\n",
       "  </tbody>\n",
       "</table>\n",
       "</div>"
      ],
      "text/plain": [
       "                  DateTime  RH [%]  Temperature [°C]  WBT_C  \\\n",
       "0  2023-12-01 00:05:34.000    64.1              30.5   25.1   \n",
       "1  2023-12-01 00:15:34.000    64.1              30.4   25.0   \n",
       "2  2023-12-01 00:25:34.000    65.1              30.3   25.1   \n",
       "3  2023-12-01 00:35:34.000    65.0              30.3   25.1   \n",
       "4  2023-12-01 00:45:34.000    64.8              30.3   25.1   \n",
       "\n",
       "                  Time  year  month  day  hour  minute  second  \n",
       "0  2023-12-01 00:05:34  2023     12    1     0       5      34  \n",
       "1  2023-12-01 00:15:34  2023     12    1     0      15      34  \n",
       "2  2023-12-01 00:25:34  2023     12    1     0      25      34  \n",
       "3  2023-12-01 00:35:34  2023     12    1     0      35      34  \n",
       "4  2023-12-01 00:45:34  2023     12    1     0      45      34  "
      ]
     },
     "execution_count": 7,
     "metadata": {},
     "output_type": "execute_result"
    }
   ],
   "source": [
    "temperature_df.head()"
   ]
  },
  {
   "cell_type": "code",
   "execution_count": 9,
   "metadata": {},
   "outputs": [
    {
     "data": {
      "text/plain": [
       "(4441, 33)"
      ]
     },
     "execution_count": 9,
     "metadata": {},
     "output_type": "execute_result"
    }
   ],
   "source": [
    "efficiency_df.shape"
   ]
  },
  {
   "cell_type": "code",
   "execution_count": 10,
   "metadata": {},
   "outputs": [
    {
     "data": {
      "text/plain": [
       "(4451, 11)"
      ]
     },
     "execution_count": 10,
     "metadata": {},
     "output_type": "execute_result"
    }
   ],
   "source": [
    "temperature_df.shape"
   ]
  },
  {
   "cell_type": "code",
   "execution_count": 11,
   "metadata": {},
   "outputs": [],
   "source": [
    "# Efficiency Data\n",
    "efficiency_df['Time'] = pd.to_datetime(efficiency_df['Time'])\n",
    "\n",
    "# Temperature Data\n",
    "temperature_df['DateTime'] = pd.to_datetime(temperature_df['DateTime'])"
   ]
  },
  {
   "cell_type": "code",
   "execution_count": 12,
   "metadata": {},
   "outputs": [],
   "source": [
    "efficiency_df.sort_values('Time', inplace=True)\n",
    "temperature_df.sort_values('DateTime', inplace=True)"
   ]
  },
  {
   "cell_type": "code",
   "execution_count": 13,
   "metadata": {},
   "outputs": [],
   "source": [
    "merged_df = pd.merge_asof(\n",
    "    efficiency_df,\n",
    "    temperature_df,\n",
    "    left_on='Time',\n",
    "    right_on='DateTime',\n",
    "    direction='nearest',\n",
    "    tolerance=pd.Timedelta('6 minutes')  # Adjust as needed\n",
    ")"
   ]
  },
  {
   "cell_type": "code",
   "execution_count": 14,
   "metadata": {},
   "outputs": [
    {
     "name": "stdout",
     "output_type": "stream",
     "text": [
      "Number of unmatched rows: 2\n"
     ]
    }
   ],
   "source": [
    "# Check for unmatched rows\n",
    "unmatched_rows = merged_df[merged_df['Temperature [°C]'].isna()]\n",
    "print(f\"Number of unmatched rows: {len(unmatched_rows)}\")"
   ]
  },
  {
   "cell_type": "code",
   "execution_count": 16,
   "metadata": {},
   "outputs": [
    {
     "data": {
      "text/plain": [
       "(4441, 44)"
      ]
     },
     "execution_count": 16,
     "metadata": {},
     "output_type": "execute_result"
    }
   ],
   "source": [
    "merged_df.shape"
   ]
  },
  {
   "cell_type": "code",
   "execution_count": 18,
   "metadata": {},
   "outputs": [
    {
     "name": "stdout",
     "output_type": "stream",
     "text": [
      "Number of unmatched rows: 2\n"
     ]
    }
   ],
   "source": [
    "# Assuming your merged dataframe is called 'merged_df'\n",
    "\n",
    "# List of temperature columns from df_temperature\n",
    "temperature_columns = ['Temperature [°C]', 'RH [%]', 'WBT_C']\n",
    "\n",
    "# Identify rows where any of the temperature columns are NaN\n",
    "unmatched_rows = merged_df[merged_df[temperature_columns].isna().any(axis=1)]\n",
    "\n",
    "print(f\"Number of unmatched rows: {len(unmatched_rows)}\")"
   ]
  },
  {
   "cell_type": "code",
   "execution_count": 19,
   "metadata": {},
   "outputs": [
    {
     "name": "stdout",
     "output_type": "stream",
     "text": [
      "Rows before cleaning: 4441\n",
      "Rows after cleaning: 4439\n"
     ]
    }
   ],
   "source": [
    "# Remove rows with NaN in any of the temperature columns\n",
    "merged_df_clean = merged_df.dropna(subset=temperature_columns)\n",
    "\n",
    "print(f\"Rows before cleaning: {len(merged_df)}\")\n",
    "print(f\"Rows after cleaning: {len(merged_df_clean)}\")"
   ]
  },
  {
   "cell_type": "code",
   "execution_count": 20,
   "metadata": {},
   "outputs": [
    {
     "name": "stdout",
     "output_type": "stream",
     "text": [
      "Temperature [°C]    0\n",
      "RH [%]              0\n",
      "WBT_C               0\n",
      "dtype: int64\n"
     ]
    }
   ],
   "source": [
    "# Verify that there are no NaNs in the temperature columns\n",
    "print(merged_df_clean[temperature_columns].isna().sum())"
   ]
  },
  {
   "cell_type": "code",
   "execution_count": 21,
   "metadata": {},
   "outputs": [],
   "source": [
    "merged_df_clean.to_csv('cleaned.csv')"
   ]
  },
  {
   "cell_type": "code",
   "execution_count": 23,
   "metadata": {},
   "outputs": [
    {
     "data": {
      "text/plain": [
       "Index(['Time_x', 'RT', 'kW_Tot', 'kW_RT', 'CH Load', 'kW_CHH', 'kW_CHP',\n",
       "       'kW_CHS', 'kW_CDS', 'kW_CT', 'GPM', 'DeltaCHW', 'CHWS', 'CHWR',\n",
       "       'DeltaCDW', 'CDHI', 'CDLO', 'WBT', 'DeltaCT', 'Hz_ CHP', 'Hz_CHS',\n",
       "       'Hz_CDS', 'Hz_CT', 'Precent_CH', 'Precent_ CHP', 'Precent_CDS',\n",
       "       'Precent_CT', 'year_x', 'month_x', 'day_x', 'hour_x', 'minute_x',\n",
       "       'second_x', 'DateTime', 'RH [%]', 'Temperature [°C]', 'WBT_C', 'Time_y',\n",
       "       'year_y', 'month_y', 'day_y', 'hour_y', 'minute_y', 'second_y'],\n",
       "      dtype='object')"
      ]
     },
     "execution_count": 23,
     "metadata": {},
     "output_type": "execute_result"
    }
   ],
   "source": [
    "merged_df_clean.columns"
   ]
  },
  {
   "cell_type": "code",
   "execution_count": 24,
   "metadata": {},
   "outputs": [],
   "source": [
    "# List of columns to drop\n",
    "columns_to_drop = [\n",
    "    'Time_y',           # Duplicate time column from temperature data\n",
    "    'year_x', 'month_x', 'day_x', 'hour_x', 'minute_x', 'second_x',  # Date components from efficiency data\n",
    "    'year_y', 'month_y', 'day_y', 'hour_y', 'minute_y', 'second_y'   # Date components from temperature data\n",
    "]\n",
    "\n",
    "# Drop the columns\n",
    "merged_df_clean = merged_df_clean.drop(columns=columns_to_drop)"
   ]
  },
  {
   "cell_type": "code",
   "execution_count": 25,
   "metadata": {},
   "outputs": [],
   "source": [
    "# Rename 'Time_x' to 'Time'\n",
    "merged_df_clean.rename(columns={'Time_x': 'Time'}, inplace=True)"
   ]
  },
  {
   "cell_type": "code",
   "execution_count": 26,
   "metadata": {},
   "outputs": [
    {
     "data": {
      "text/plain": [
       "Index(['Time', 'RT', 'kW_Tot', 'kW_RT', 'CH Load', 'kW_CHH', 'kW_CHP',\n",
       "       'kW_CHS', 'kW_CDS', 'kW_CT', 'GPM', 'DeltaCHW', 'CHWS', 'CHWR',\n",
       "       'DeltaCDW', 'CDHI', 'CDLO', 'WBT', 'DeltaCT', 'Hz_ CHP', 'Hz_CHS',\n",
       "       'Hz_CDS', 'Hz_CT', 'Precent_CH', 'Precent_ CHP', 'Precent_CDS',\n",
       "       'Precent_CT', 'DateTime', 'RH [%]', 'Temperature [°C]', 'WBT_C'],\n",
       "      dtype='object')"
      ]
     },
     "execution_count": 26,
     "metadata": {},
     "output_type": "execute_result"
    }
   ],
   "source": [
    "merged_df_clean.columns"
   ]
  },
  {
   "cell_type": "code",
   "execution_count": 27,
   "metadata": {},
   "outputs": [],
   "source": [
    "merged_df_clean.to_csv('cleaned.csv')"
   ]
  },
  {
   "cell_type": "code",
   "execution_count": 28,
   "metadata": {},
   "outputs": [],
   "source": [
    "# Calculate the absolute time difference in seconds\n",
    "merged_df_clean['Time_Difference'] = (merged_df_clean['Time'] - merged_df_clean['DateTime']).dt.total_seconds().abs()"
   ]
  },
  {
   "cell_type": "code",
   "execution_count": 29,
   "metadata": {},
   "outputs": [
    {
     "name": "stdout",
     "output_type": "stream",
     "text": [
      "Maximum Time Difference: 353.0 seconds\n"
     ]
    }
   ],
   "source": [
    "max_time_diff = merged_df_clean['Time_Difference'].max()\n",
    "print(f\"Maximum Time Difference: {max_time_diff} seconds\")"
   ]
  },
  {
   "cell_type": "code",
   "execution_count": 30,
   "metadata": {},
   "outputs": [],
   "source": [
    "merged_df_clean.to_csv('cleaned.csv')"
   ]
  },
  {
   "cell_type": "code",
   "execution_count": null,
   "metadata": {},
   "outputs": [],
   "source": []
  }
 ],
 "metadata": {
  "kernelspec": {
   "display_name": "venv",
   "language": "python",
   "name": "python3"
  },
  "language_info": {
   "codemirror_mode": {
    "name": "ipython",
    "version": 3
   },
   "file_extension": ".py",
   "mimetype": "text/x-python",
   "name": "python",
   "nbconvert_exporter": "python",
   "pygments_lexer": "ipython3",
   "version": "3.12.5"
  }
 },
 "nbformat": 4,
 "nbformat_minor": 2
}
